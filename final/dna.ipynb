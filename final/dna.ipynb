{
 "cells": [
  {
   "attachments": {},
   "cell_type": "markdown",
   "metadata": {},
   "source": [
    "# 期末考察内容 2：DNA 序列特征提取"
   ]
  },
  {
   "attachments": {},
   "cell_type": "markdown",
   "metadata": {},
   "source": [
    "导入包，预设参数。"
   ]
  },
  {
   "cell_type": "code",
   "execution_count": null,
   "metadata": {},
   "outputs": [],
   "source": [
    "import matplotlib.pyplot as plt\n",
    "import pandas as pd\n",
    "import scipy.cluster.hierarchy as sch\n",
    "\n",
    "plt.rcParams[\"font.sans-serif\"] = [\"SimHei\"]\n",
    "plt.rcParams[\"axes.unicode_minus\"] = False\n",
    "plt.tight_layout()"
   ]
  },
  {
   "attachments": {},
   "cell_type": "markdown",
   "metadata": {},
   "source": [
    "读取 DNA 序列数据集，并清洗数据。"
   ]
  },
  {
   "cell_type": "code",
   "execution_count": null,
   "metadata": {},
   "outputs": [],
   "source": [
    "ELEMENT_TYPES = [\"a\", \"t\", \"c\", \"g\"]\n",
    "elements = pd.DataFrame(columns=ELEMENT_TYPES)\n",
    "\n",
    "with open(\"data/Art-model-data.txt\", \"r\", encoding=\"utf-8\") as fr:\n",
    "    record_num = 0\n",
    "\n",
    "    for index, line in enumerate(fr.readlines()):\n",
    "        if index == 0 or len(line) < 20:\n",
    "            continue\n",
    "\n",
    "        elements.loc[record_num] = [\n",
    "            line.count(element_type) for element_type in ELEMENT_TYPES\n",
    "        ]\n",
    "        record_num += 1\n",
    "\n",
    "frequencies = elements.div(elements.sum(axis=1), axis=0)\n",
    "\n",
    "a_frequencies = frequencies[:10]\n",
    "b_frequencies = frequencies[10:]"
   ]
  },
  {
   "attachments": {},
   "cell_type": "markdown",
   "metadata": {},
   "source": [
    "为两种类型的序列分别绘制成分组成的饼图。"
   ]
  },
  {
   "cell_type": "code",
   "execution_count": null,
   "metadata": {},
   "outputs": [],
   "source": [
    "fig, axes = plt.subplots(1, 2, figsize=(12, 6))\n",
    "\n",
    "a_frequencies.sum().plot(\n",
    "    kind=\"pie\",\n",
    "    title=\"A类序列组成饼图\",\n",
    "    autopct=\"%1.1f%%\",\n",
    "    ax=axes[0],\n",
    ")\n",
    "b_frequencies.sum().plot(\n",
    "    kind=\"pie\",\n",
    "    title=\"B类序列组成饼图\",\n",
    "    autopct=\"%1.1f%%\",\n",
    "    ax=axes[1],\n",
    ")\n",
    "\n",
    "plt.show()"
   ]
  },
  {
   "attachments": {},
   "cell_type": "markdown",
   "metadata": {},
   "source": [
    "绘制两个序列中各个字符的平均出现频率。"
   ]
  },
  {
   "cell_type": "code",
   "execution_count": null,
   "metadata": {},
   "outputs": [],
   "source": [
    "mean = pd.concat([a_frequencies.mean(), b_frequencies.mean()], axis=1)\n",
    "mean.columns = [\"A类\", \"B类\"]\n",
    "mean.plot(kind=\"bar\")\n",
    "plt.title(\"序列中各字符的平均频率\")\n",
    "plt.show()"
   ]
  },
  {
   "attachments": {},
   "cell_type": "markdown",
   "metadata": {},
   "source": [
    "绘制各序列内字符频率的柱状图。"
   ]
  },
  {
   "cell_type": "code",
   "execution_count": null,
   "metadata": {},
   "outputs": [],
   "source": [
    "fig, axes = plt.subplots(2, 1, figsize=(16, 8))\n",
    "\n",
    "a_frequencies.plot(kind=\"bar\", ax=axes[0])\n",
    "b_frequencies.plot(kind=\"bar\", ax=axes[1])\n",
    "\n",
    "plt.suptitle(\"各序列内字符频率柱状图\")\n",
    "plt.legend(\"upper left\")\n",
    "plt.show()"
   ]
  },
  {
   "attachments": {},
   "cell_type": "markdown",
   "metadata": {},
   "source": [
    "对相似的序列进行聚类。"
   ]
  },
  {
   "cell_type": "code",
   "execution_count": null,
   "metadata": {},
   "outputs": [],
   "source": [
    "plt.figure(figsize=(16, 8))\n",
    "Z = sch.linkage(frequencies, method=\"ward\", metric=\"euclidean\")\n",
    "sch.dendrogram(Z, labels=frequencies.index + 1, orientation=\"left\")\n",
    "plt.title(\"相似序列聚类图\")\n",
    "plt.show()"
   ]
  },
  {
   "attachments": {},
   "cell_type": "markdown",
   "metadata": {},
   "source": [
    "输出每个类内的序列。"
   ]
  },
  {
   "cell_type": "code",
   "execution_count": null,
   "metadata": {},
   "outputs": [],
   "source": [
    "Z = sch.linkage(frequencies, method=\"ward\", metric=\"euclidean\")\n",
    "f = sch.fcluster(Z, t=2, criterion=\"maxclust\")\n",
    "result = pd.DataFrame(data=f, columns=[\"类别\"], index=frequencies.index)\n",
    "\n",
    "for i in range(2):\n",
    "    print(f\"第{i + 1}类：{', '.join([str(k + 1) for k in list(result[result['类别'] == i + 1].index)])}\")"
   ]
  }
 ],
 "metadata": {
  "kernelspec": {
   "display_name": "multivariate-statistical-analysis-vapy7PMH",
   "language": "python",
   "name": "python3"
  },
  "language_info": {
   "codemirror_mode": {
    "name": "ipython",
    "version": 3
   },
   "file_extension": ".py",
   "mimetype": "text/x-python",
   "name": "python",
   "nbconvert_exporter": "python",
   "pygments_lexer": "ipython3",
   "version": "3.10.9"
  },
  "orig_nbformat": 4
 },
 "nbformat": 4,
 "nbformat_minor": 2
}
