{
 "cells": [
  {
   "attachments": {},
   "cell_type": "markdown",
   "metadata": {},
   "source": [
    "# 期末考察内容 1：上证 50 年底交易数据"
   ]
  },
  {
   "attachments": {},
   "cell_type": "markdown",
   "metadata": {},
   "source": [
    "导入包，预设参数。"
   ]
  },
  {
   "cell_type": "code",
   "execution_count": null,
   "metadata": {},
   "outputs": [],
   "source": [
    "import matplotlib.pyplot as plt\n",
    "import pandas as pd\n",
    "import seaborn as sns\n",
    "from scipy.stats import zscore\n",
    "\n",
    "plt.rcParams[\"font.sans-serif\"] = [\"SimHei\"]\n",
    "plt.rcParams[\"axes.unicode_minus\"] = False\n",
    "plt.tight_layout()"
   ]
  },
  {
   "attachments": {},
   "cell_type": "markdown",
   "metadata": {},
   "source": [
    "读取收盘价数据集，并清洗数据。"
   ]
  },
  {
   "cell_type": "code",
   "execution_count": null,
   "metadata": {},
   "outputs": [],
   "source": [
    "closing_prices = pd.read_excel(\n",
    "    \"data/上证50年底交易数据(收盘价).xlsx\",\n",
    "    index_col=0,\n",
    ")"
   ]
  },
  {
   "attachments": {},
   "cell_type": "markdown",
   "metadata": {},
   "source": [
    "绘制小提琴图，观察数据分布。可以看到，各支股票的收盘价量纲不同，其中贵州茅台的收盘价明显高于其它股票。"
   ]
  },
  {
   "cell_type": "code",
   "execution_count": null,
   "metadata": {},
   "outputs": [],
   "source": [
    "plt.subplots(figsize=(16, 8))\n",
    "sns.violinplot(closing_prices)\n",
    "plt.title(\"收盘价小提琴图\")\n",
    "plt.xticks(rotation=90)\n",
    "plt.show()"
   ]
  },
  {
   "attachments": {},
   "cell_type": "markdown",
   "metadata": {},
   "source": [
    "添加每天的市场总价后，绘制相关系数的热力图。\n",
    "\n",
    "可以看到，有些股票呈现强相关性，例如“陕西煤业”和“中国石化”；有些则呈现强负相关性，例如“贵州茅台”和“恒瑞医药”。\n",
    "\n",
    "同时还可以通过总价相关的热力图，分析各支股票和整个市场的相关性。强相关的有“贵州茅台”、“山西汾酒”和“伊利股份”等；弱相关的有“天合光能”、“长江电力”等。"
   ]
  },
  {
   "cell_type": "code",
   "execution_count": null,
   "metadata": {},
   "outputs": [],
   "source": [
    "closing_prices_with_sum = closing_prices.copy()\n",
    "closing_prices_with_sum[\"总价\"] = closing_prices.sum(axis=1)\n",
    "corr = closing_prices_with_sum.corr()\n",
    "\n",
    "plt.subplots(figsize=(16, 16))\n",
    "sns.heatmap(\n",
    "    corr,\n",
    "    cmap=\"coolwarm\",\n",
    "    vmax=1,\n",
    "    vmin=-1,\n",
    "    mask=corr == 1,\n",
    ")\n",
    "plt.show()"
   ]
  },
  {
   "attachments": {},
   "cell_type": "markdown",
   "metadata": {},
   "source": [
    "绘制折线图研究各支股票的走向。由于量纲不同，需要先对数据进行归一化。每支股票的走势起伏都较大，没有稳定上升或下降的股票。"
   ]
  },
  {
   "cell_type": "code",
   "execution_count": null,
   "metadata": {},
   "outputs": [],
   "source": [
    "closing_prices_zscored = closing_prices.apply(zscore, ddof=1)\n",
    "\n",
    "TOTAL_PARTS = 5\n",
    "part_size = int(closing_prices.shape[1] / TOTAL_PARTS)\n",
    "\n",
    "fig, axes = plt.subplots(TOTAL_PARTS, 1, figsize=(16, 40))\n",
    "for part in range(TOTAL_PARTS):\n",
    "    df = closing_prices_zscored.iloc[:, part * part_size:(part + 1) * part_size]\n",
    "    sns.lineplot(df, ax=axes[part])\n",
    "    axes[part].legend(loc=\"upper right\")\n",
    "\n",
    "plt.show()"
   ]
  }
 ],
 "metadata": {
  "kernelspec": {
   "display_name": "multivariate-statistical-analysis-vapy7PMH",
   "language": "python",
   "name": "python3"
  },
  "language_info": {
   "codemirror_mode": {
    "name": "ipython",
    "version": 3
   },
   "file_extension": ".py",
   "mimetype": "text/x-python",
   "name": "python",
   "nbconvert_exporter": "python",
   "pygments_lexer": "ipython3",
   "version": "3.10.9"
  },
  "orig_nbformat": 4
 },
 "nbformat": 4,
 "nbformat_minor": 2
}
