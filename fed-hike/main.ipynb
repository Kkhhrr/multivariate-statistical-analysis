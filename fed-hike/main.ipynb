{
 "cells": [
  {
   "attachments": {},
   "cell_type": "markdown",
   "metadata": {},
   "source": [
    "# 多元统计分析作业三（小组）\n",
    "\n",
    "- 胡义磊 2020010801005\n",
    "- 张逸斐 2020010801006\n",
    "- 阮登科 2020010801008\n",
    "- 蔡与望 2020010801024"
   ]
  },
  {
   "attachments": {},
   "cell_type": "markdown",
   "metadata": {},
   "source": [
    "导入包，预设参数。"
   ]
  },
  {
   "cell_type": "code",
   "execution_count": null,
   "metadata": {},
   "outputs": [],
   "source": [
    "import matplotlib.pyplot as plt\n",
    "import pandas as pd\n",
    "import seaborn as sns\n",
    "import statsmodels.api as sm\n",
    "\n",
    "plt.rcParams[\"font.sans-serif\"] = [\"SimHei\"]\n",
    "plt.rcParams[\"axes.unicode_minus\"] = False\n",
    "plt.tight_layout()"
   ]
  },
  {
   "attachments": {},
   "cell_type": "markdown",
   "metadata": {},
   "source": [
    "## 利率与汇率的关系"
   ]
  },
  {
   "attachments": {},
   "cell_type": "markdown",
   "metadata": {},
   "source": [
    "读取利率、汇率和 GDP 同比数据集，并清洗数据。"
   ]
  },
  {
   "cell_type": "code",
   "execution_count": null,
   "metadata": {},
   "outputs": [],
   "source": [
    "interest_rate = pd.read_excel(\n",
    "    \"data/加息-汇率-GDP.xlsx\",\n",
    "    sheet_name=\"加息\",\n",
    "    index_col=0,\n",
    ")\n",
    "exchange_rates = pd.read_excel(\n",
    "    \"data/加息-汇率-GDP.xlsx\",\n",
    "    sheet_name=\"汇率变化\",\n",
    "    index_col=0,\n",
    ")\n",
    "gdp_growths = pd.read_excel(\n",
    "    \"data/加息-汇率-GDP.xlsx\",\n",
    "    sheet_name=\"GDP同比增长率\",\n",
    "    index_col=0,\n",
    ")\n",
    "countries = exchange_rates.columns"
   ]
  },
  {
   "attachments": {},
   "cell_type": "markdown",
   "metadata": {},
   "source": [
    "探索性分析。"
   ]
  },
  {
   "cell_type": "code",
   "execution_count": null,
   "metadata": {},
   "outputs": [],
   "source": [
    "fig, axes = plt.subplots(1, 3, figsize=(18, 6))\n",
    "sns.lineplot(interest_rate, dashes=False, ax=axes[0])\n",
    "axes[0].set_title(\"加息\")\n",
    "sns.boxplot(exchange_rates, ax=axes[1])\n",
    "axes[1].set_title(\"汇率变化\")\n",
    "sns.boxplot(gdp_growths, ax=axes[2])\n",
    "axes[2].set_title(\"GDP同比增长率\")\n",
    "plt.show()"
   ]
  },
  {
   "attachments": {},
   "cell_type": "markdown",
   "metadata": {},
   "source": [
    "对于各个国家，用加息基点分别和汇率、GDP 同比增长率进行回归分析。"
   ]
  },
  {
   "cell_type": "code",
   "execution_count": null,
   "metadata": {},
   "outputs": [],
   "source": [
    "for index, country in enumerate(countries):\n",
    "    country_data = pd.DataFrame(\n",
    "        {\n",
    "            \"加息基点\": interest_rate[\"加息基点\"],\n",
    "            \"汇率变化\": exchange_rates[country],\n",
    "            \"GDP同比增长率\": gdp_growths[country],\n",
    "        },\n",
    "        index=interest_rate.index,\n",
    "    )\n",
    "\n",
    "    fig, axes = plt.subplots(1, 3, figsize=(18, 6))\n",
    "    fig.suptitle(country)\n",
    "\n",
    "    sns.heatmap(\n",
    "        country_data.corr(),\n",
    "        annot=True,\n",
    "        cmap=\"coolwarm\",\n",
    "        vmax=1,\n",
    "        vmin=-1,\n",
    "        mask=country_data.corr() == 1,\n",
    "        ax=axes[0],\n",
    "    )\n",
    "    sns.regplot(\n",
    "        country_data,\n",
    "        x=\"加息基点\",\n",
    "        y=\"汇率变化\",\n",
    "        ax=axes[1],\n",
    "    )\n",
    "    sns.regplot(\n",
    "        country_data,\n",
    "        x=\"加息基点\",\n",
    "        y=\"GDP同比增长率\",\n",
    "        ax=axes[2],\n",
    "    )\n",
    "    plt.show()\n",
    "\n",
    "    print(\"\\n\\n回归结果：汇率变化 ~ 加息基点\")\n",
    "    exchange_model = sm.formula.ols(\n",
    "        formula=\"汇率变化 ~ 加息基点\",\n",
    "        data=country_data,\n",
    "    ).fit()\n",
    "    print(exchange_model.summary())\n",
    "\n",
    "    print(\"\\n\\n回归结果：GDP同比增长率 ~ 加息基点\")\n",
    "    gdp_model = sm.formula.ols(\n",
    "        formula=\"GDP同比增长率 ~ 加息基点\",\n",
    "        data=country_data,\n",
    "    ).fit()\n",
    "    print(gdp_model.summary())\n"
   ]
  },
  {
   "attachments": {},
   "cell_type": "markdown",
   "metadata": {},
   "source": [
    "1. 可以看到，对大多数国家来说，美联储加息对该国的汇率和 GDP 同比增长率没有显著的线性关系。这是由于各国的汇率和 GDP 同比增长率受到的因素很多，例如政策、地缘、技术等等，而美联储加息只是其中的一个因素。\n",
    "2. 从总体趋势上看，美联储加息使得大多数国家的货币贬值。这是因为美联储加息会使得美元升值，而美元升值会使得其他货币贬值。\n",
    "3. GDP 同比增长率受美联储加息的影响比较微弱。随着加息基点的增长，有些国家（如韩、英）的 GDP 同比增长率下降，有些国家（如中、非、印）上升，有些国家（如日）保持不变。但 GDP 同比增长率的变化，与其说是受到了美联储加息的影响，不如说是更多受到了国内其它因素的影响。"
   ]
  }
 ],
 "metadata": {
  "kernelspec": {
   "display_name": "multivariate-statistical-analysis-vapy7PMH",
   "language": "python",
   "name": "python3"
  },
  "language_info": {
   "codemirror_mode": {
    "name": "ipython",
    "version": 3
   },
   "file_extension": ".py",
   "mimetype": "text/x-python",
   "name": "python",
   "nbconvert_exporter": "python",
   "pygments_lexer": "ipython3",
   "version": "3.10.9 (main, Dec 19 2022, 17:35:49) [GCC 12.2.0]"
  },
  "orig_nbformat": 4,
  "vscode": {
   "interpreter": {
    "hash": "89ca0a8fa81c5300b4b337c46c963e273f067efcef11cf75a39fdf919c40194b"
   }
  }
 },
 "nbformat": 4,
 "nbformat_minor": 2
}
