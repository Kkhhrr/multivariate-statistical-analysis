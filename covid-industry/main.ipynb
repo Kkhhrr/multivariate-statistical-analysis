{
 "cells": [
  {
   "attachments": {},
   "cell_type": "markdown",
   "metadata": {},
   "source": [
    "# 多元统计分析作业二（小组）\n",
    "\n",
    "- 胡义磊 2020010801005\n",
    "- 张逸斐 2020010801006\n",
    "- 阮登科 2020010801008\n",
    "- 蔡与望 2020010801024"
   ]
  },
  {
   "attachments": {},
   "cell_type": "markdown",
   "metadata": {},
   "source": [
    "导入包，预设参数。"
   ]
  },
  {
   "cell_type": "code",
   "execution_count": null,
   "metadata": {},
   "outputs": [],
   "source": [
    "import matplotlib.pyplot as plt\n",
    "import pandas as pd\n",
    "import seaborn as sns\n",
    "from sklearn.decomposition import PCA\n",
    "\n",
    "plt.rcParams[\"font.sans-serif\"] = [\"SimHei\"]\n",
    "plt.rcParams[\"axes.unicode_minus\"] = False\n",
    "plt.tight_layout()"
   ]
  },
  {
   "attachments": {},
   "cell_type": "markdown",
   "metadata": {},
   "source": [
    "## 疫情前后行业发展趋势"
   ]
  },
  {
   "attachments": {},
   "cell_type": "markdown",
   "metadata": {},
   "source": [
    "读取分行业增加值指数数据集，并清洗数据。"
   ]
  },
  {
   "cell_type": "code",
   "execution_count": null,
   "metadata": {},
   "outputs": [],
   "source": [
    "industries = pd.read_excel(\n",
    "    \"data/分行业增加值指数.xls\",\n",
    "    skiprows=2,\n",
    "    skipfooter=1,\n",
    "    index_col=0,\n",
    ").T.drop(\n",
    "    columns=\"国内生产总值指数(上年=100)\",\n",
    ").rename(\n",
    "    columns=lambda name: name.replace(\"增加值指数(上年=100)\", \"\"),\n",
    "    index=lambda name: name.replace(\"年\", \"\"),\n",
    ").sort_index()\n",
    "industries.index.rename(\"年份\", inplace=True)"
   ]
  },
  {
   "attachments": {},
   "cell_type": "markdown",
   "metadata": {},
   "source": [
    "### 探索性分析"
   ]
  },
  {
   "attachments": {},
   "cell_type": "markdown",
   "metadata": {},
   "source": [
    "各行业数量级差距不大，且量纲相同，数据可以不做预处理。"
   ]
  },
  {
   "cell_type": "code",
   "execution_count": null,
   "metadata": {},
   "outputs": [],
   "source": [
    "sns.boxplot(industries, orient=\"h\")\n",
    "plt.show()"
   ]
  },
  {
   "attachments": {},
   "cell_type": "markdown",
   "metadata": {},
   "source": [
    "- 各行业的增长值指数基本常年稳定在 (100%, 110%) 区间内，在此区间内有小幅波动。\n",
    "- 在疫情初年（2020），大多数行业的增长值指数均有明显下降，其中以“住宿和餐饮业”最为明显。\n",
    "- 在疫情次年（2021），大多数行业的增长值指数均有明显回升，其中同样以“住宿和餐饮业”最为明显。"
   ]
  },
  {
   "cell_type": "code",
   "execution_count": null,
   "metadata": {},
   "outputs": [],
   "source": [
    "sns.lineplot(industries, dashes=False)\n",
    "plt.show()"
   ]
  },
  {
   "attachments": {},
   "cell_type": "markdown",
   "metadata": {},
   "source": [
    "“工业”和“批发和零售业”的相关程度最高，“交通运输、仓储和邮政业”和“金融业”的相关程度最低。"
   ]
  },
  {
   "cell_type": "code",
   "execution_count": null,
   "metadata": {},
   "outputs": [],
   "source": [
    "sns.heatmap(industries.corr(), annot=True, cmap=\"coolwarm\")\n",
    "plt.show()"
   ]
  },
  {
   "attachments": {},
   "cell_type": "markdown",
   "metadata": {},
   "source": [
    "### 主成分分析"
   ]
  },
  {
   "attachments": {},
   "cell_type": "markdown",
   "metadata": {},
   "source": [
    "前 2 个主成分的累计贡献率约 88%；并且在第 2 个主成分后，折线变得平缓。"
   ]
  },
  {
   "cell_type": "code",
   "execution_count": null,
   "metadata": {},
   "outputs": [],
   "source": [
    "pca = PCA().fit(industries)\n",
    "\n",
    "contribution_index = pd.Index([str(i + 1) for i in range(pca.n_components_)], name=\"主成分\")\n",
    "contributions = pd.Series(\n",
    "    pca.explained_variance_ratio_,\n",
    "    name=\"贡献率\",\n",
    "    index=contribution_index,\n",
    ")\n",
    "contributions_cumsum = pd.Series(\n",
    "    pca.explained_variance_ratio_.cumsum(),\n",
    "    name=\"累计贡献率\",\n",
    "    index=contribution_index,\n",
    ")\n",
    "\n",
    "_, axes = plt.subplots(1, 2, figsize=(12, 4))\n",
    "sns.lineplot(contributions, ax=axes[0])\n",
    "sns.lineplot(contributions_cumsum, ax=axes[1])\n",
    "plt.show()"
   ]
  },
  {
   "attachments": {},
   "cell_type": "markdown",
   "metadata": {},
   "source": [
    "所以接下来只需要考虑前 2 个主成分。"
   ]
  },
  {
   "cell_type": "code",
   "execution_count": null,
   "metadata": {},
   "outputs": [],
   "source": [
    "pca = PCA(n_components=2)\n",
    "raw_scores = pca.fit_transform(industries)"
   ]
  },
  {
   "attachments": {},
   "cell_type": "markdown",
   "metadata": {},
   "source": [
    "- 主成分 1 中，“住宿和餐饮业”的权重最高，反映了“住宿和餐饮业”的发展情况。\n",
    "- 主成分 2 中，“金融业”的权重最高，反映了“金融业”的发展情况。"
   ]
  },
  {
   "cell_type": "code",
   "execution_count": null,
   "metadata": {},
   "outputs": [],
   "source": [
    "components = pd.DataFrame(\n",
    "    pca.components_.T,\n",
    "    columns=[\"主成分1\", \"主成分2\"],\n",
    "    index=industries.columns\n",
    ")\n",
    "sns.heatmap(components, annot=True, cmap=\"coolwarm\")\n",
    "plt.show()"
   ]
  },
  {
   "attachments": {},
   "cell_type": "markdown",
   "metadata": {},
   "source": [
    "在主成分 1 上，疫情之前（2012-2019）得分都大约在 (-5,0) 区间内，而 2020 的得分骤降，2021 的得分又陡升。这说明在疫情初期，以住宿和餐饮业为代表的一系列行业受到了严重打击；而经过疫情防控和政策调控，这些行业又迅速复苏。\n",
    "\n",
    "在主成分 2 上，得分呈周期性波动：2012-2015 上升，2015-2017 下降、2017-2019 上升，2019-2021 下降。这说明以金融业为代表的一系列行业的确受到了疫情的拖累，但影响相对较小，没有出现主成分 1 那样明显的抖动。"
   ]
  },
  {
   "cell_type": "code",
   "execution_count": null,
   "metadata": {},
   "outputs": [],
   "source": [
    "scores = pd.DataFrame(\n",
    "    raw_scores,\n",
    "    columns=[\"主成分1\", \"主成分2\"],\n",
    "    index=industries.index\n",
    ")\n",
    "sns.scatterplot(scores, x=\"主成分1\", y=\"主成分2\")\n",
    "for label, row in scores.iterrows():\n",
    "    plt.text(row[\"主成分1\"], row[\"主成分2\"] , \" \" + str(label))\n",
    "plt.show()"
   ]
  },
  {
   "attachments": {},
   "cell_type": "markdown",
   "metadata": {},
   "source": [
    "综上所述，在疫情的影响下，我们可以把行业分为两类：\n",
    "\n",
    "1. 初期受严重打击，而后迅速复苏。代表行业有：“住宿和餐饮业”、“批发和零售业”、“交通运输、仓储和邮政业”、“工业”、“其他行业”、“房地产业”等。\n",
    "2. 受到负面影响，但并不严重。代表行业有：“金融业”、“建筑业”。"
   ]
  }
 ],
 "metadata": {
  "kernelspec": {
   "display_name": "multivariate-statistical-analysis-vapy7PMH",
   "language": "python",
   "name": "python3"
  },
  "language_info": {
   "codemirror_mode": {
    "name": "ipython",
    "version": 3
   },
   "file_extension": ".py",
   "mimetype": "text/x-python",
   "name": "python",
   "nbconvert_exporter": "python",
   "pygments_lexer": "ipython3",
   "version": "3.10.9 (main, Dec 19 2022, 17:35:49) [GCC 12.2.0]"
  },
  "orig_nbformat": 4,
  "vscode": {
   "interpreter": {
    "hash": "89ca0a8fa81c5300b4b337c46c963e273f067efcef11cf75a39fdf919c40194b"
   }
  }
 },
 "nbformat": 4,
 "nbformat_minor": 2
}
