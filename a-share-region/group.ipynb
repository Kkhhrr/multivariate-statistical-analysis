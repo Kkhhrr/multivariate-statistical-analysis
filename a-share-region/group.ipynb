{
 "cells": [
  {
   "attachments": {},
   "cell_type": "markdown",
   "metadata": {},
   "source": [
    "# 多元统计分析作业一（小组）\n",
    "\n",
    "- 胡义磊 2020010801005\n",
    "- 张逸斐 2020010801006\n",
    "- 阮登科 2020010801008\n",
    "- 蔡与望 2020010801024"
   ]
  },
  {
   "attachments": {},
   "cell_type": "markdown",
   "metadata": {},
   "source": [
    "导入包，预设参数。"
   ]
  },
  {
   "cell_type": "code",
   "execution_count": null,
   "metadata": {},
   "outputs": [],
   "source": [
    "import matplotlib.pyplot as plt\n",
    "import pandas as pd\n",
    "import scipy.cluster.hierarchy as sch\n",
    "import seaborn as sns\n",
    "from pyecharts.charts import Map\n",
    "import pyecharts.options as opts\n",
    "\n",
    "plt.rcParams[\"font.sans-serif\"] = [\"SimHei\"]\n",
    "plt.rcParams[\"axes.unicode_minus\"] = False\n",
    "plt.tight_layout()"
   ]
  },
  {
   "attachments": {},
   "cell_type": "markdown",
   "metadata": {},
   "source": [
    "## 地图可视化"
   ]
  },
  {
   "attachments": {},
   "cell_type": "markdown",
   "metadata": {},
   "source": [
    "读取地区板块数据集，统计各地区上市公司数量。"
   ]
  },
  {
   "cell_type": "code",
   "execution_count": null,
   "metadata": {},
   "outputs": [],
   "source": [
    "regions = pd.read_csv(\n",
    "    \"data/地区板块.txt\",\n",
    "    sep=\"\\t\",\n",
    "    names=[\"地区代码\", \"地区名称\", \"股票代码\", \"股票名称\"],\n",
    "    dtype=str,\n",
    ")\n",
    "regions[\"地区名称\"] = regions[\"地区名称\"].apply(\n",
    "    lambda name: str(name).replace(\"板块\", \"\").replace(\"内蒙\", \"内蒙古\")\n",
    ")\n",
    "region_name_counts = regions[\"地区名称\"].value_counts()"
   ]
  },
  {
   "attachments": {},
   "cell_type": "markdown",
   "metadata": {},
   "source": [
    "在中国地图上展示热力图。"
   ]
  },
  {
   "cell_type": "code",
   "execution_count": null,
   "metadata": {},
   "outputs": [],
   "source": [
    "Map().add(\n",
    "    \"上市数目\",\n",
    "    list(zip(region_name_counts.index, [int(value) for value in region_name_counts.values])),\n",
    "    is_map_symbol_show=False,\n",
    "    is_roam=False,\n",
    ").set_global_opts(\n",
    "    title_opts=opts.TitleOpts(\"各地区上市数目\"),\n",
    "    visualmap_opts=opts.VisualMapOpts(\n",
    "        min_=0,\n",
    "        max_=650,\n",
    "        range_text=[\"上市最多\", \"上市最少\"],\n",
    "        is_piecewise=True,\n",
    "        pos_top=\"middle\",\n",
    "        pos_left=\"left\",\n",
    "        orient=\"vertical\",\n",
    "        split_number=13,\n",
    "    ),\n",
    ").render_notebook()"
   ]
  },
  {
   "attachments": {},
   "cell_type": "markdown",
   "metadata": {},
   "source": [
    "## 地区行业分布"
   ]
  },
  {
   "attachments": {},
   "cell_type": "markdown",
   "metadata": {},
   "source": [
    "读取行业板块数据集，根据股票代码合并地区与行业两个数据集。"
   ]
  },
  {
   "cell_type": "code",
   "execution_count": null,
   "metadata": {},
   "outputs": [],
   "source": [
    "industries = pd.read_csv(\n",
    "    \"data/行业板块.txt\",\n",
    "    sep=\"\\t\",\n",
    "    names=[\"行业代码\", \"行业名称\", \"股票代码\", \"股票名称\"],\n",
    "    dtype=str,\n",
    ")\n",
    "region_industries = pd.merge(regions, industries, on=\"股票代码\", how=\"inner\")[[\"地区名称\", \"行业名称\"]]\n",
    "region_names = region_industries[\"地区名称\"].unique()\n",
    "industry_names = region_industries[\"行业名称\"].unique()"
   ]
  },
  {
   "attachments": {},
   "cell_type": "markdown",
   "metadata": {},
   "source": [
    "绘制饼图，展示各地区各行业上市公司数量的占比。"
   ]
  },
  {
   "cell_type": "code",
   "execution_count": null,
   "metadata": {},
   "outputs": [],
   "source": [
    "for region_name in region_names:\n",
    "    current_region_industries = region_industries[region_industries[\"地区名称\"] == region_name]\n",
    "    industry_name_counts = current_region_industries[\"行业名称\"].value_counts()\n",
    "    industry_name_counts.plot(\n",
    "        kind=\"pie\",\n",
    "        autopct=lambda pct: round(current_region_industries.shape[0] * pct / 100),\n",
    "        title=f\"{region_name}各行业上市数目\",\n",
    "        figsize=(16, 12),\n",
    "    )\n",
    "    plt.show()"
   ]
  },
  {
   "attachments": {},
   "cell_type": "markdown",
   "metadata": {},
   "source": [
    "## 聚类分析地区相似性"
   ]
  },
  {
   "attachments": {},
   "cell_type": "markdown",
   "metadata": {},
   "source": [
    "构造一个多维空间，其维数等于行业总数。每个点代表一个地区，其坐标代表该地区在各行业的上市公司数量。"
   ]
  },
  {
   "cell_type": "code",
   "execution_count": null,
   "metadata": {},
   "outputs": [],
   "source": [
    "points = pd.DataFrame(0, index=region_names, columns=industry_names)\n",
    "for region_name in region_names:\n",
    "    current_region_industries = region_industries[region_industries[\"地区名称\"] == region_name]\n",
    "    industry_name_counts = current_region_industries[\"行业名称\"].value_counts()\n",
    "    points.loc[region_name, industry_name_counts.index] = industry_name_counts.values"
   ]
  },
  {
   "attachments": {},
   "cell_type": "markdown",
   "metadata": {},
   "source": [
    "根据地区间的欧氏距离，使用 Ward 法聚类。"
   ]
  },
  {
   "cell_type": "code",
   "execution_count": null,
   "metadata": {},
   "outputs": [],
   "source": [
    "Z = sch.linkage(points, method=\"ward\", metric=\"euclidean\")\n",
    "sch.dendrogram(Z, labels=points.index, orientation=\"left\")\n",
    "plt.show()"
   ]
  },
  {
   "attachments": {},
   "cell_type": "markdown",
   "metadata": {},
   "source": [
    "以 100 为距离阈值，所有地区被分为 4 类：\n",
    "\n",
    "1. 深圳、广东、上海、山东\n",
    "2. 北京\n",
    "3. 浙江、江苏\n",
    "4. 其余所有地区"
   ]
  }
 ],
 "metadata": {
  "kernelspec": {
   "display_name": "Python 3.10.8 ('multivariate-statistical-analysis-vapy7PMH')",
   "language": "python",
   "name": "python3"
  },
  "language_info": {
   "codemirror_mode": {
    "name": "ipython",
    "version": 3
   },
   "file_extension": ".py",
   "mimetype": "text/x-python",
   "name": "python",
   "nbconvert_exporter": "python",
   "pygments_lexer": "ipython3",
   "version": "3.10.9 (main, Dec 19 2022, 17:35:49) [GCC 12.2.0]"
  },
  "orig_nbformat": 4,
  "vscode": {
   "interpreter": {
    "hash": "89ca0a8fa81c5300b4b337c46c963e273f067efcef11cf75a39fdf919c40194b"
   }
  }
 },
 "nbformat": 4,
 "nbformat_minor": 2
}
