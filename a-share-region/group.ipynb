{
 "cells": [
  {
   "cell_type": "markdown",
   "metadata": {},
   "source": [
    "# 多元统计分析作业一（小组）\n",
    "\n",
    "- 胡义磊 2020010801005\n",
    "- 张逸斐 2020010801006\n",
    "- 阮登科 2020010801008\n",
    "- 蔡与望 2020010801024"
   ]
  },
  {
   "cell_type": "code",
   "execution_count": null,
   "metadata": {},
   "outputs": [],
   "source": [
    "import pandas as pd\n",
    "import matplotlib.pyplot as plt\n",
    "from pyecharts.charts import Map\n",
    "import pyecharts.options as opts\n",
    "\n",
    "plt.rc(\"font\", family=\"simhei\", size=12)\n",
    "plt.tight_layout()"
   ]
  },
  {
   "cell_type": "code",
   "execution_count": null,
   "metadata": {},
   "outputs": [],
   "source": [
    "region = pd.read_csv(\n",
    "    \"data/region.txt\",\n",
    "    sep=\"\\t\",\n",
    "    names=[\"region_id\", \"region_name\", \"stock_id\", \"stock_name\"],\n",
    "    dtype=str,\n",
    ")\n",
    "region.region_name = [\n",
    "    str(name).replace(\"板块\", \"\").replace(\"内蒙\", \"内蒙古\") for name in region.region_name\n",
    "]\n",
    "region_count = region.region_name.value_counts()"
   ]
  },
  {
   "cell_type": "code",
   "execution_count": null,
   "metadata": {},
   "outputs": [],
   "source": [
    "Map().add(\n",
    "    \"上市数目\",\n",
    "    list(zip(region_count.index, [int(value) for value in region_count.values])),\n",
    "    is_map_symbol_show=False,\n",
    "    is_roam=False,\n",
    ").set_global_opts(\n",
    "    title_opts=opts.TitleOpts(\"各地区上市数目\"),\n",
    "    visualmap_opts=opts.VisualMapOpts(\n",
    "        min_=0,\n",
    "        max_=650,\n",
    "        range_text=[\"上市最多\", \"上市最少\"],\n",
    "        is_piecewise=True,\n",
    "        pos_top=\"middle\",\n",
    "        pos_left=\"left\",\n",
    "        orient=\"vertical\",\n",
    "        split_number=13,\n",
    "    ),\n",
    ").render_notebook()\n"
   ]
  },
  {
   "cell_type": "code",
   "execution_count": null,
   "metadata": {},
   "outputs": [],
   "source": [
    "industry = pd.read_csv(\n",
    "    \"data/industry.txt\",\n",
    "    sep=\"\\t\",\n",
    "    names=[\"industry_id\", \"industry_name\", \"stock_id\", \"stock_name\"],\n",
    "    dtype=str,\n",
    ")\n",
    "region_industry = pd.merge(region, industry, on=\"stock_id\", how=\"inner\")[[\"region_name\", \"industry_name\"]]\n",
    "\n",
    "for index, region_name in enumerate(region.region_name.unique()):\n",
    "    industry_names = region_industry[region_industry.region_name == region_name].industry_name\n",
    "    industry_count = industry_names.value_counts()\n",
    "    industry_total = industry_count.sum()\n",
    "\n",
    "    industry_count.plot(\n",
    "        kind=\"pie\",\n",
    "        autopct=lambda x: \"{:.0f}\".format(industry_total * x / 100),\n",
    "        figsize=(16, 12),\n",
    "        title=f\"{region_name}各行业上市数目\",\n",
    "        ylabel=\"行业名称\",\n",
    "    )\n",
    "    plt.show()\n",
    "\n"
   ]
  }
 ],
 "metadata": {
  "kernelspec": {
   "display_name": "Python 3.10.8 ('multivariate-statistical-analysis-vapy7PMH')",
   "language": "python",
   "name": "python3"
  },
  "language_info": {
   "codemirror_mode": {
    "name": "ipython",
    "version": 3
   },
   "file_extension": ".py",
   "mimetype": "text/x-python",
   "name": "python",
   "nbconvert_exporter": "python",
   "pygments_lexer": "ipython3",
   "version": "3.10.8 (main, Nov  1 2022, 14:18:21) [GCC 12.2.0]"
  },
  "orig_nbformat": 4,
  "vscode": {
   "interpreter": {
    "hash": "89ca0a8fa81c5300b4b337c46c963e273f067efcef11cf75a39fdf919c40194b"
   }
  }
 },
 "nbformat": 4,
 "nbformat_minor": 2
}
