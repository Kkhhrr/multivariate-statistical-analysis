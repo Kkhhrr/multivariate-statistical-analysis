{
 "cells": [
  {
   "attachments": {},
   "cell_type": "markdown",
   "metadata": {},
   "source": [
    "# 多元统计分析作业一（个人）\n",
    "\n",
    "蔡与望 2020010801024"
   ]
  },
  {
   "attachments": {},
   "cell_type": "markdown",
   "metadata": {},
   "source": [
    "导入包，预设参数。"
   ]
  },
  {
   "cell_type": "code",
   "execution_count": null,
   "metadata": {},
   "outputs": [],
   "source": [
    "import matplotlib.pyplot as plt\n",
    "import pandas as pd\n",
    "\n",
    "plt.rcParams[\"font.sans-serif\"] = [\"SimHei\"]\n",
    "plt.rcParams[\"axes.unicode_minus\"] = False\n",
    "plt.tight_layout()"
   ]
  },
  {
   "attachments": {},
   "cell_type": "markdown",
   "metadata": {},
   "source": [
    "读取地区板块数据集，统计各地区上市公司数量。"
   ]
  },
  {
   "cell_type": "code",
   "execution_count": null,
   "metadata": {},
   "outputs": [],
   "source": [
    "regions = pd.read_csv(\n",
    "    \"data/地区板块.txt\",\n",
    "    sep=\"\\t\",\n",
    "    names=[\"地区代码\", \"地区名称\", \"股票代码\", \"股票名称\"],\n",
    "    dtype=str,\n",
    ")\n",
    "regions[\"地区名称\"] = regions[\"地区名称\"].apply(\n",
    "    lambda name: str(name).replace(\"板块\", \"\").replace(\"内蒙\", \"内蒙古\")\n",
    ")\n",
    "region_name_counts = regions[\"地区名称\"].value_counts()"
   ]
  },
  {
   "attachments": {},
   "cell_type": "markdown",
   "metadata": {},
   "source": [
    "绘制饼图，展示各地区上市公司数量的占比。"
   ]
  },
  {
   "cell_type": "code",
   "execution_count": null,
   "metadata": {},
   "outputs": [],
   "source": [
    "region_name_counts.plot(\n",
    "    kind=\"pie\",\n",
    "    autopct=lambda pct: round(regions.shape[0] * pct / 100),\n",
    "    title=\"各地区上市数目\",\n",
    "    figsize=(16, 12),\n",
    ")\n",
    "plt.show()"
   ]
  },
  {
   "attachments": {},
   "cell_type": "markdown",
   "metadata": {},
   "source": [
    "绘制柱状图，对比各地区上市公司数量的差距。"
   ]
  },
  {
   "cell_type": "code",
   "execution_count": null,
   "metadata": {},
   "outputs": [],
   "source": [
    "region_name_counts.plot(\n",
    "    kind=\"barh\",\n",
    "    title=\"各地区上市数目\",\n",
    "    figsize=(16, 12)\n",
    ")\n",
    "plt.show()"
   ]
  }
 ],
 "metadata": {
  "kernelspec": {
   "display_name": "Python 3.10.8 ('multivariate-statistical-analysis-vapy7PMH')",
   "language": "python",
   "name": "python3"
  },
  "language_info": {
   "codemirror_mode": {
    "name": "ipython",
    "version": 3
   },
   "file_extension": ".py",
   "mimetype": "text/x-python",
   "name": "python",
   "nbconvert_exporter": "python",
   "pygments_lexer": "ipython3",
   "version": "3.10.9"
  },
  "orig_nbformat": 4,
  "vscode": {
   "interpreter": {
    "hash": "89ca0a8fa81c5300b4b337c46c963e273f067efcef11cf75a39fdf919c40194b"
   }
  }
 },
 "nbformat": 4,
 "nbformat_minor": 2
}
