{
 "cells": [
  {
   "cell_type": "markdown",
   "metadata": {},
   "source": [
    "# 多元统计分析作业一（个人）\n",
    "\n",
    "蔡与望 2020010801024"
   ]
  },
  {
   "cell_type": "code",
   "execution_count": null,
   "metadata": {},
   "outputs": [],
   "source": [
    "import pandas as pd\n",
    "import matplotlib.pyplot as plt\n",
    "\n",
    "plt.rc(\"font\", family=\"simhei\", size=12)\n",
    "plt.tight_layout()"
   ]
  },
  {
   "cell_type": "code",
   "execution_count": null,
   "metadata": {},
   "outputs": [],
   "source": [
    "region = pd.read_csv(\n",
    "    \"data/region.txt\",\n",
    "    sep=\"\\t\",\n",
    "    names=[\"region_id\", \"region_name\", \"stock_id\", \"stock_name\"],\n",
    "    dtype=str,\n",
    ")\n",
    "region.region_name = [\n",
    "    str(name).replace(\"板块\", \"\").replace(\"内蒙\", \"内蒙古\") for name in region.region_name\n",
    "]\n",
    "region_count = region.region_name.value_counts()\n",
    "total_count = region_count.sum()"
   ]
  },
  {
   "cell_type": "code",
   "execution_count": null,
   "metadata": {},
   "outputs": [],
   "source": [
    "region_count.plot(\n",
    "    kind=\"pie\",\n",
    "    autopct=lambda x: \"{:.0f}\".format(total_count * x / 100),\n",
    "    title=\"各地区上市数目\",\n",
    "    ylabel=\"地区名称\",\n",
    "    figsize=(16, 12),\n",
    ")\n",
    "plt.show()"
   ]
  },
  {
   "cell_type": "code",
   "execution_count": null,
   "metadata": {},
   "outputs": [],
   "source": [
    "region_count.plot(\n",
    "    kind=\"barh\",\n",
    "    title=\"各地区上市数目\",\n",
    "    ylabel=\"地区名称\",\n",
    "    figsize=(16, 12),\n",
    ")\n",
    "plt.show()"
   ]
  }
 ],
 "metadata": {
  "kernelspec": {
   "display_name": "Python 3.10.8 ('multivariate-statistical-analysis-vapy7PMH')",
   "language": "python",
   "name": "python3"
  },
  "language_info": {
   "codemirror_mode": {
    "name": "ipython",
    "version": 3
   },
   "file_extension": ".py",
   "mimetype": "text/x-python",
   "name": "python",
   "nbconvert_exporter": "python",
   "pygments_lexer": "ipython3",
   "version": "3.10.8"
  },
  "orig_nbformat": 4,
  "vscode": {
   "interpreter": {
    "hash": "89ca0a8fa81c5300b4b337c46c963e273f067efcef11cf75a39fdf919c40194b"
   }
  }
 },
 "nbformat": 4,
 "nbformat_minor": 2
}
